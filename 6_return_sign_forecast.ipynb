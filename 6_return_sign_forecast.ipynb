{
  "nbformat": 4,
  "nbformat_minor": 0,
  "metadata": {
    "colab": {
      "name": "TP6_DLF.ipynb",
      "provenance": [],
      "collapsed_sections": []
    },
    "kernelspec": {
      "name": "python3",
      "display_name": "Python 3"
    },
    "language_info": {
      "name": "python"
    },
    "accelerator": "GPU"
  },
  "cells": [
    {
      "cell_type": "code",
      "metadata": {
        "id": "zpcD2JFQ0Dws",
        "colab": {
          "base_uri": "https://localhost:8080/"
        },
        "outputId": "034485d5-56b9-4894-8ec4-d1e95f27d9e3"
      },
      "source": [
        "!pip install yfinance"
      ],
      "execution_count": null,
      "outputs": [
        {
          "output_type": "stream",
          "text": [
            "Collecting yfinance\n",
            "  Downloading https://files.pythonhosted.org/packages/a9/8f/2a053003f7d6e8c1caa7b61499dfc3a7c33bdc85a06fa00d5a7445e2fb1f/yfinance-0.1.56.tar.gz\n",
            "Requirement already satisfied: pandas>=0.24 in /usr/local/lib/python3.7/dist-packages (from yfinance) (1.1.5)\n",
            "Requirement already satisfied: numpy>=1.15 in /usr/local/lib/python3.7/dist-packages (from yfinance) (1.19.5)\n",
            "Requirement already satisfied: requests>=2.20 in /usr/local/lib/python3.7/dist-packages (from yfinance) (2.23.0)\n",
            "Requirement already satisfied: multitasking>=0.0.7 in /usr/local/lib/python3.7/dist-packages (from yfinance) (0.0.9)\n",
            "Collecting lxml>=4.5.1\n",
            "\u001b[?25l  Downloading https://files.pythonhosted.org/packages/cf/4d/6537313bf58fe22b508f08cf3eb86b29b6f9edf68e00454224539421073b/lxml-4.6.3-cp37-cp37m-manylinux1_x86_64.whl (5.5MB)\n",
            "\u001b[K     |████████████████████████████████| 5.5MB 14.0MB/s \n",
            "\u001b[?25hRequirement already satisfied: python-dateutil>=2.7.3 in /usr/local/lib/python3.7/dist-packages (from pandas>=0.24->yfinance) (2.8.1)\n",
            "Requirement already satisfied: pytz>=2017.2 in /usr/local/lib/python3.7/dist-packages (from pandas>=0.24->yfinance) (2018.9)\n",
            "Requirement already satisfied: urllib3!=1.25.0,!=1.25.1,<1.26,>=1.21.1 in /usr/local/lib/python3.7/dist-packages (from requests>=2.20->yfinance) (1.24.3)\n",
            "Requirement already satisfied: chardet<4,>=3.0.2 in /usr/local/lib/python3.7/dist-packages (from requests>=2.20->yfinance) (3.0.4)\n",
            "Requirement already satisfied: idna<3,>=2.5 in /usr/local/lib/python3.7/dist-packages (from requests>=2.20->yfinance) (2.10)\n",
            "Requirement already satisfied: certifi>=2017.4.17 in /usr/local/lib/python3.7/dist-packages (from requests>=2.20->yfinance) (2020.12.5)\n",
            "Requirement already satisfied: six>=1.5 in /usr/local/lib/python3.7/dist-packages (from python-dateutil>=2.7.3->pandas>=0.24->yfinance) (1.15.0)\n",
            "Building wheels for collected packages: yfinance\n",
            "  Building wheel for yfinance (setup.py) ... \u001b[?25l\u001b[?25hdone\n",
            "  Created wheel for yfinance: filename=yfinance-0.1.56-py2.py3-none-any.whl size=22627 sha256=0c6ea556c438dafb98f0d3ee95421632642a6df9c4c9527fa25594e66f428200\n",
            "  Stored in directory: /root/.cache/pip/wheels/e9/26/69/ebde3c87490e75c5d8b06cf2dd284d1183ca1bb814b1d5f18c\n",
            "Successfully built yfinance\n",
            "Installing collected packages: lxml, yfinance\n",
            "  Found existing installation: lxml 4.2.6\n",
            "    Uninstalling lxml-4.2.6:\n",
            "      Successfully uninstalled lxml-4.2.6\n",
            "Successfully installed lxml-4.6.3 yfinance-0.1.56\n"
          ],
          "name": "stdout"
        }
      ]
    },
    {
      "cell_type": "code",
      "metadata": {
        "id": "KTsV7B0Q2FJT",
        "colab": {
          "base_uri": "https://localhost:8080/"
        },
        "outputId": "fa84c558-3683-46b5-c7d8-fb301a652b6c"
      },
      "source": [
        "import yfinance as yf\n",
        "from tensorflow.keras import Sequential\n",
        "from tensorflow.keras.layers import Dense, Conv1D, MaxPool1D, Dropout, LeakyReLU, BatchNormalization, LSTM\n",
        "from tensorflow.keras.losses import BinaryCrossentropy\n",
        "from tensorflow.keras.optimizers import Adam\n",
        "import tensorflow as tf\n",
        "import tensorflow.keras.backend as K\n",
        "import matplotlib.pyplot as plt\n",
        "import numpy as np\n",
        "import pandas as pd\n",
        "from google.colab import drive\n",
        "drive.mount('/content/drive')\n",
        "DRIVE = '/content/drive/MyDrive/Colab Notebooks'"
      ],
      "execution_count": null,
      "outputs": [
        {
          "output_type": "stream",
          "text": [
            "Mounted at /content/drive\n"
          ],
          "name": "stdout"
        }
      ]
    },
    {
      "cell_type": "markdown",
      "metadata": {
        "id": "7Szj75EgvWrQ"
      },
      "source": [
        "# Préparation de données\n",
        "type de prévision : classification<br>\n",
        "type de représentation de données : signes( +, -, 0)<br>\n",
        "Architecture NN: 2 layers of LSTM model and dense output layer with RELU activation<br>\n",
        "\n"
      ]
    },
    {
      "cell_type": "code",
      "metadata": {
        "id": "8wTZmbcw2GYF"
      },
      "source": [
        "def raw_data(cols):\n",
        "    return pd.DataFrame(yf.download(\"^GSPC\")[cols].dropna())\n",
        "\n",
        "def log_return(cols):\n",
        "    log_data = np.log(raw_data(cols))\n",
        "    return log_data.diff().dropna()\n",
        "\n",
        "def get_sign(df):\n",
        "    df[(df > -1e-4) & (df < 1e-4)] = 0\n",
        "    df[df > 0] = 1\n",
        "    df[df < 0] = -1\n",
        "    return df"
      ],
      "execution_count": null,
      "outputs": []
    },
    {
      "cell_type": "code",
      "metadata": {
        "id": "ZSe2EGEh9Q6u"
      },
      "source": [
        "#split a univariate sequence into samples\n",
        "def split_sequence_univariate(sequence, n_steps):\n",
        "    X, y = list(), list()\n",
        "    for i in range(len(sequence)):\n",
        "        # find the end of this pattern\n",
        "        end_ix = i + n_steps\n",
        "        # check if we are beyond the sequence\n",
        "        if end_ix > len(sequence)-1:\n",
        "            break\n",
        "            \n",
        "        # gather input and output parts of the pattern\n",
        "        seq_x, seq_y = sequence[i:end_ix], sequence[end_ix]\n",
        "        X.append(seq_x)\n",
        "        y.append(seq_y)\n",
        "    return np.array(X), np.array(y)\n",
        "\n",
        "# split a multivariate sequence into samples\n",
        "def split_sequences_multivariate(sequences, n_steps):\n",
        "    sequences = sequences.reshape((len(sequences), -1))\n",
        "    X, y = list(), list()\n",
        "    for i in range(len(sequences)):\n",
        "# find the end of this pattern\n",
        "        end_ix = i + n_steps\n",
        "# check if we are beyond the dataset\n",
        "        if end_ix > len(sequences)-1:\n",
        "            break\n",
        "# gather input and output parts of the pattern\n",
        "        seq_x, seq_y = sequences[i:end_ix, :], sequences[end_ix, 0]\n",
        "        X.append(seq_x)\n",
        "        y.append(seq_y.flatten())\n",
        "    return np.array(X), np.array(y)\n",
        "\n",
        "\n",
        "def train_test_set(df, len_seq, batch, test_in_batch=False):\n",
        "    train_len = int(len(df) * 0.8)\n",
        "    train_set = df.iloc[:train_len, :].values\n",
        "    test_set = df.iloc[train_len:, :].values\n",
        "    train_x, train_y = split_sequences_multivariate(train_set, len_seq)\n",
        "    test_x, test_y = split_sequences_multivariate(test_set, len_seq)\n",
        "\n",
        "    train_x, train_y = train_x[:batch * (len(train_x) // batch)], train_y[:batch * (len(train_y) // batch)]\n",
        "    batches = tf.data.Dataset.from_tensor_slices((train_x, train_y)).shuffle(train_x.shape[0]).batch(batch)\n",
        "\n",
        "    print('train batch: %s*%s, train set shape: %s, train target shape: %s' %\n",
        "          (batch, len(train_x) // batch, train_x.shape, train_y.shape))\n",
        "    if test_in_batch:\n",
        "        test_x, test_y = test_x[:batch * (len(test_x) // batch)], test_y[:batch * (len(test_y) // batch)]\n",
        "        test_batches = tf.data.Dataset.from_tensor_slices((test_x, test_y)).batch(batch)\n",
        "        print('test batch: %s*%s, test set shape: %s, test target shape: %s' % \n",
        "              (batch, len(test_x) // batch, test_x.shape, test_y.shape))\n",
        "        return batches, test_batches, None\n",
        "\n",
        "\n",
        "    print('test set shape: %s, test target shape: %s' % (test_x.shape, test_y.shape))\n",
        "    return batches, test_x, test_y\n",
        "\n",
        "\n",
        "def run_lstm(dataset, len_seq, units, epochs, batch):\n",
        "    with tf.device('/device:GPU:0'):\n",
        "        train_batch, test_x, test_y = train_test_set(dataset, len_seq, batch)\n",
        "\n",
        "        model = Sequential([\n",
        "            # Shape [batch, time, features] => [batch, time, lstm_units]\n",
        "            LSTM(units, input_shape=(len_seq,test_x.shape[-1]), return_sequences=True),\n",
        "            LSTM(units,  return_sequences=False),\n",
        "            # Shape => [batch, time, features]\n",
        "            Dense(3, activation='relu'),\n",
        "            Dense(1)\n",
        "        ])\n",
        "        # early_stopping = tf.keras.callbacks.EarlyStopping(monitor='val_loss',\n",
        "        #                                                 patience=patience,\n",
        "        #                                                 mode='min')\n",
        "\n",
        "        model.compile(loss=tf.losses.MeanSquaredError(),\n",
        "                        optimizer=tf.optimizers.Adam(),\n",
        "                        metrics=[tf.metrics.MeanAbsoluteError()])\n",
        "        print(model.summary())\n",
        "\n",
        "        history = model.fit(train_batch, epochs=epochs, verbose=0)\n",
        "                            # callbacks=[early_stopping])\n",
        "        print('*** model training done ***')\n",
        "        \n",
        "        plt.plot(history.history['loss'])\n",
        "        plt.xlabel('epoch')\n",
        "        plt.ylabel('mse')\n",
        "        plt.show()\n",
        "\n",
        "        # to do : use test set to calculate metrics\n",
        "        return model, test_x, test_y"
      ],
      "execution_count": null,
      "outputs": []
    },
    {
      "cell_type": "code",
      "metadata": {
        "colab": {
          "base_uri": "https://localhost:8080/",
          "height": 721
        },
        "id": "Ytmh1vnxGkPi",
        "outputId": "accc41e2-ef14-4063-adee-2a1b9a46dfc8"
      },
      "source": [
        "adjclose_ret = log_return('Adj Close') # dataframe\n",
        "plt.plot(adjclose_ret)\n",
        "plt.show()\n",
        "adjclose_ret = get_sign(adjclose_ret)\n",
        "adjclose_ret"
      ],
      "execution_count": null,
      "outputs": [
        {
          "output_type": "stream",
          "text": [
            "\r[*********************100%***********************]  1 of 1 completed\n"
          ],
          "name": "stdout"
        },
        {
          "output_type": "display_data",
          "data": {
            "image/png": "[encoded data removed]",
            "text/plain": [
              "<Figure size 432x288 with 1 Axes>"
            ]
          },
          "metadata": {
            "tags": [],
            "needs_background": "light"
          }
        },
        {
          "output_type": "execute_result",
          "data": {
            "text/html": [
              "<div>\n",
              "<style scoped>\n",
              "    .dataframe tbody tr th:only-of-type {\n",
              "        vertical-align: middle;\n",
              "    }\n",
              "\n",
              "    .dataframe tbody tr th {\n",
              "        vertical-align: top;\n",
              "    }\n",
              "\n",
              "    .dataframe thead th {\n",
              "        text-align: right;\n",
              "    }\n",
              "</style>\n",
              "<table border=\"1\" class=\"dataframe\">\n",
              "  <thead>\n",
              "    <tr style=\"text-align: right;\">\n",
              "      <th></th>\n",
              "      <th>Adj Close</th>\n",
              "    </tr>\n",
              "    <tr>\n",
              "      <th>Date</th>\n",
              "      <th></th>\n",
              "    </tr>\n",
              "  </thead>\n",
              "  <tbody>\n",
              "    <tr>\n",
              "      <th>1928-01-03</th>\n",
              "      <td>1.0</td>\n",
              "    </tr>\n",
              "    <tr>\n",
              "      <th>1928-01-04</th>\n",
              "      <td>-1.0</td>\n",
              "    </tr>\n",
              "    <tr>\n",
              "      <th>1928-01-05</th>\n",
              "      <td>-1.0</td>\n",
              "    </tr>\n",
              "    <tr>\n",
              "      <th>1928-01-06</th>\n",
              "      <td>1.0</td>\n",
              "    </tr>\n",
              "    <tr>\n",
              "      <th>1928-01-09</th>\n",
              "      <td>-1.0</td>\n",
              "    </tr>\n",
              "    <tr>\n",
              "      <th>...</th>\n",
              "      <td>...</td>\n",
              "    </tr>\n",
              "    <tr>\n",
              "      <th>2021-03-18</th>\n",
              "      <td>-1.0</td>\n",
              "    </tr>\n",
              "    <tr>\n",
              "      <th>2021-03-19</th>\n",
              "      <td>-1.0</td>\n",
              "    </tr>\n",
              "    <tr>\n",
              "      <th>2021-03-22</th>\n",
              "      <td>1.0</td>\n",
              "    </tr>\n",
              "    <tr>\n",
              "      <th>2021-03-23</th>\n",
              "      <td>-1.0</td>\n",
              "    </tr>\n",
              "    <tr>\n",
              "      <th>2021-03-24</th>\n",
              "      <td>-1.0</td>\n",
              "    </tr>\n",
              "  </tbody>\n",
              "</table>\n",
              "<p>23417 rows × 1 columns</p>\n",
              "</div>"
            ],
            "text/plain": [
              "            Adj Close\n",
              "Date                 \n",
              "1928-01-03        1.0\n",
              "1928-01-04       -1.0\n",
              "1928-01-05       -1.0\n",
              "1928-01-06        1.0\n",
              "1928-01-09       -1.0\n",
              "...               ...\n",
              "2021-03-18       -1.0\n",
              "2021-03-19       -1.0\n",
              "2021-03-22        1.0\n",
              "2021-03-23       -1.0\n",
              "2021-03-24       -1.0\n",
              "\n",
              "[23417 rows x 1 columns]"
            ]
          },
          "metadata": {
            "tags": []
          },
          "execution_count": 27
        }
      ]
    },
    {
      "cell_type": "markdown",
      "metadata": {
        "id": "BRq91nytwMHo"
      },
      "source": [
        "# 1 Rendement seuls"
      ]
    },
    {
      "cell_type": "code",
      "metadata": {
        "colab": {
          "base_uri": "https://localhost:8080/",
          "height": 639
        },
        "id": "uUOW39IMKiT3",
        "outputId": "629ccbf5-c463-4faa-bc05-00985f67fdab"
      },
      "source": [
        "LSTM1, TX1, TY1 = run_lstm(adjclose_ret,\n",
        "                         len_seq=100, units=128, epochs=100, batch=64)"
      ],
      "execution_count": null,
      "outputs": [
        {
          "output_type": "stream",
          "text": [
            "train batch: 64*291, train set shape: (18624, 100, 1), train target shape: (18624, 1)\n",
            "test set shape: (4584, 100, 1), test target shape: (4584, 1)\n",
            "Model: \"sequential_7\"\n",
            "_________________________________________________________________\n",
            "Layer (type)                 Output Shape              Param #   \n",
            "=================================================================\n",
            "lstm_12 (LSTM)               (None, 100, 128)          66560     \n",
            "_________________________________________________________________\n",
            "lstm_13 (LSTM)               (None, 128)               131584    \n",
            "_________________________________________________________________\n",
            "dense_12 (Dense)             (None, 3)                 387       \n",
            "_________________________________________________________________\n",
            "dense_13 (Dense)             (None, 1)                 4         \n",
            "=================================================================\n",
            "Total params: 198,535\n",
            "Trainable params: 198,535\n",
            "Non-trainable params: 0\n",
            "_________________________________________________________________\n",
            "None\n",
            "*** model training done ***\n"
          ],
          "name": "stdout"
        },
        {
          "output_type": "display_data",
          "data": {
            "image/png": "[encoded data removed]",
            "text/plain": [
              "<Figure size 432x288 with 1 Axes>"
            ]
          },
          "metadata": {
            "tags": [],
            "needs_background": "light"
          }
        }
      ]
    },
    {
      "cell_type": "code",
      "metadata": {
        "colab": {
          "base_uri": "https://localhost:8080/"
        },
        "id": "Yhp4Az90QPoG",
        "outputId": "5633faba-2a95-4514-e36c-5f270a425c64"
      },
      "source": [
        "PRED1 = np.sign(LSTM1(TX1, training=False).numpy().flatten())\n",
        "print(np.sign(PRED1))\n",
        "print(np.sum(PRED1 == TY1.flatten()) / len(PRED1))\n",
        "# plt.plot(TY, label='actual', alpha=0.7)\n",
        "# plt.plot(PRED, label='predict')\n",
        "# plt.legend()"
      ],
      "execution_count": null,
      "outputs": [
        {
          "output_type": "stream",
          "text": [
            "[ 1.  1.  1. ... -1.  1. -1.]\n",
            "0.50021815008726\n"
          ],
          "name": "stdout"
        }
      ]
    },
    {
      "cell_type": "markdown",
      "metadata": {
        "id": "zFs0rnYuwTzQ"
      },
      "source": [
        "[result]: We can get a precision of 50.02% on test set."
      ]
    },
    {
      "cell_type": "markdown",
      "metadata": {
        "id": "Sw6tm_Urwd8B"
      },
      "source": [
        "# 2 Rendements et OHLC\n"
      ]
    },
    {
      "cell_type": "code",
      "metadata": {
        "id": "ESBZ9cZP_hXd"
      },
      "source": [
        "def data_with_log_ratio():\n",
        "    data = raw_data(['Open', 'Close', 'High', 'Low'])\n",
        "    res = get_sign(log_return('Adj Close'))\n",
        "    data['logHO'] = np.ma.log(data['High'].values / data['Open'].values).filled(0)\n",
        "    data['logLO'] = np.ma.log(data['Low'].values / data['Open'].values).filled(0)\n",
        "    data['logCO'] = np.ma.log(data['Close'].values / data['Open'].values).filled(0)\n",
        "    data = data[['logHO','logLO','logCO']]\n",
        "    data = data[(data.T != 0).any()]\n",
        "    # data=(data-data.mean())/data.std()\n",
        "    return pd.merge(res, data, left_index=True, right_index=True)"
      ],
      "execution_count": null,
      "outputs": []
    },
    {
      "cell_type": "code",
      "metadata": {
        "id": "YKXUT3BWQ7_5"
      },
      "source": [
        "data_log_ratio = data_with_log_ratio()"
      ],
      "execution_count": null,
      "outputs": []
    },
    {
      "cell_type": "code",
      "metadata": {
        "colab": {
          "base_uri": "https://localhost:8080/",
          "height": 639
        },
        "id": "pbYAtsoQq7Q0",
        "outputId": "7bd0833c-6408-447a-8a0d-3127680c4b52"
      },
      "source": [
        "LSTM2, TX2, TY2 = run_lstm(data_log_ratio,\n",
        "                         len_seq=100, units=128, epochs=200, batch=64)\n"
      ],
      "execution_count": null,
      "outputs": [
        {
          "output_type": "stream",
          "text": [
            "train batch: 64*121, train set shape: (7744, 100, 4), train target shape: (7744, 1)\n",
            "test set shape: (1863, 100, 4), test target shape: (1863, 1)\n",
            "Model: \"sequential_13\"\n",
            "_________________________________________________________________\n",
            "Layer (type)                 Output Shape              Param #   \n",
            "=================================================================\n",
            "lstm_24 (LSTM)               (None, 100, 128)          68096     \n",
            "_________________________________________________________________\n",
            "lstm_25 (LSTM)               (None, 128)               131584    \n",
            "_________________________________________________________________\n",
            "dense_24 (Dense)             (None, 3)                 387       \n",
            "_________________________________________________________________\n",
            "dense_25 (Dense)             (None, 1)                 4         \n",
            "=================================================================\n",
            "Total params: 200,071\n",
            "Trainable params: 200,071\n",
            "Non-trainable params: 0\n",
            "_________________________________________________________________\n",
            "None\n",
            "*** model training done ***\n"
          ],
          "name": "stdout"
        },
        {
          "output_type": "display_data",
          "data": {
            "image/png": "[encoded data removed]",
            "text/plain": [
              "<Figure size 432x288 with 1 Axes>"
            ]
          },
          "metadata": {
            "tags": [],
            "needs_background": "light"
          }
        }
      ]
    },
    {
      "cell_type": "code",
      "metadata": {
        "colab": {
          "base_uri": "https://localhost:8080/"
        },
        "id": "K1700NvEzCpt",
        "outputId": "c583e87b-d5a1-4664-c51a-27205ea890cd"
      },
      "source": [
        "PRED2 = np.sign(LSTM2(TX2, training=False).numpy().flatten())\n",
        "print(np.sign(PRED2))\n",
        "print(np.sum(PRED2 == TY2.flatten()) / len(PRED2))"
      ],
      "execution_count": null,
      "outputs": [
        {
          "output_type": "stream",
          "text": [
            "[-1. -1. -1. ...  1. -1. -1.]\n",
            "0.5077831454643049\n"
          ],
          "name": "stdout"
        }
      ]
    },
    {
      "cell_type": "markdown",
      "metadata": {
        "id": "v8M43434wryu"
      },
      "source": [
        "[result]: We can get a precision of 50.78% on test set."
      ]
    },
    {
      "cell_type": "markdown",
      "metadata": {
        "id": "Ncy4ugFUxYVH"
      },
      "source": [
        "## 2.bis Rendements et signes de OHLC\n"
      ]
    },
    {
      "cell_type": "code",
      "metadata": {
        "colab": {
          "base_uri": "https://localhost:8080/",
          "height": 1000
        },
        "id": "zkmVFyfwSyhl",
        "outputId": "a8d35a19-8743-41ad-f2a4-6060c912a525"
      },
      "source": [
        "def data_with_log_ratio_sign():\n",
        "    data = raw_data(['Open', 'Close', 'High', 'Low'])\n",
        "    res = get_sign(log_return('Adj Close'))\n",
        "    data['logHO'] = np.ma.log(data['High'].values / data['Open'].values).filled(0)\n",
        "    data['logLO'] = np.ma.log(data['Low'].values / data['Open'].values).filled(0)\n",
        "    data['logCO'] = np.ma.log(data['Close'].values / data['Open'].values).filled(0)\n",
        "    data = data[['logHO','logLO','logCO']]\n",
        "    data = data[(data.T != 0).any()]\n",
        "    data = get_sign(data)\n",
        "    # data=(data-data.mean())/data.std()\n",
        "    return pd.merge(res, data, left_index=True, right_index=True)\n",
        "\n",
        "data_log_ratio_sign = data_with_log_ratio_sign()\n",
        "print(data_log_ratio_sign)\n",
        "LSTM2c, TX2c, TY2c = run_lstm(data_log_ratio_sign,\n",
        "                         len_seq=100, units=128, epochs=200, batch=64)\n",
        "PRED2c = np.sign(LSTM2c(TX2c, training=False).numpy().flatten())\n",
        "print(np.sign(PRED2c))\n",
        "print(np.sum(PRED2c == TY2c.flatten()) / len(PRED2c))"
      ],
      "execution_count": null,
      "outputs": [
        {
          "output_type": "stream",
          "text": [
            "[*********************100%***********************]  1 of 1 completed\n",
            "[*********************100%***********************]  1 of 1 completed\n",
            "            Adj Close  logHO  logLO  logCO\n",
            "Date                                      \n",
            "1982-04-20       -1.0    1.0   -1.0   -1.0\n",
            "1982-04-21        1.0    1.0   -1.0    1.0\n",
            "1982-04-22        1.0    1.0    0.0    1.0\n",
            "1982-04-23        1.0    1.0   -1.0    1.0\n",
            "1982-04-26        1.0    1.0   -1.0    1.0\n",
            "...               ...    ...    ...    ...\n",
            "2021-03-18       -1.0    1.0   -1.0   -1.0\n",
            "2021-03-19       -1.0    1.0   -1.0    0.0\n",
            "2021-03-22        1.0    1.0   -1.0    1.0\n",
            "2021-03-23       -1.0    1.0   -1.0   -1.0\n",
            "2021-03-24       -1.0    1.0   -1.0   -1.0\n",
            "\n",
            "[9815 rows x 4 columns]\n",
            "train batch: 64*121, train set shape: (7744, 100, 4), train target shape: (7744, 1)\n",
            "test set shape: (1863, 100, 4), test target shape: (1863, 1)\n"
          ],
          "name": "stdout"
        },
        {
          "output_type": "stream",
          "text": [
            "/usr/local/lib/python3.7/dist-packages/ipykernel_launcher.py:4: RuntimeWarning: divide by zero encountered in true_divide\n",
            "  after removing the cwd from sys.path.\n",
            "/usr/local/lib/python3.7/dist-packages/ipykernel_launcher.py:5: RuntimeWarning: divide by zero encountered in true_divide\n",
            "  \"\"\"\n",
            "/usr/local/lib/python3.7/dist-packages/ipykernel_launcher.py:6: RuntimeWarning: divide by zero encountered in true_divide\n",
            "  \n"
          ],
          "name": "stderr"
        },
        {
          "output_type": "stream",
          "text": [
            "Model: \"sequential_14\"\n",
            "_________________________________________________________________\n",
            "Layer (type)                 Output Shape              Param #   \n",
            "=================================================================\n",
            "lstm_26 (LSTM)               (None, 100, 128)          68096     \n",
            "_________________________________________________________________\n",
            "lstm_27 (LSTM)               (None, 128)               131584    \n",
            "_________________________________________________________________\n",
            "dense_26 (Dense)             (None, 3)                 387       \n",
            "_________________________________________________________________\n",
            "dense_27 (Dense)             (None, 1)                 4         \n",
            "=================================================================\n",
            "Total params: 200,071\n",
            "Trainable params: 200,071\n",
            "Non-trainable params: 0\n",
            "_________________________________________________________________\n",
            "None\n",
            "*** model training done ***\n"
          ],
          "name": "stdout"
        },
        {
          "output_type": "display_data",
          "data": {
            "image/png": "[encoded data removed]",
            "text/plain": [
              "<Figure size 432x288 with 1 Axes>"
            ]
          },
          "metadata": {
            "tags": [],
            "needs_background": "light"
          }
        },
        {
          "output_type": "stream",
          "text": [
            "[1. 1. 1. ... 1. 1. 1.]\n",
            "0.5104669887278583\n"
          ],
          "name": "stdout"
        }
      ]
    },
    {
      "cell_type": "markdown",
      "metadata": {
        "id": "Rf30M0nIw814"
      },
      "source": [
        "[result]: We can get a precision of 51.05% on test set."
      ]
    },
    {
      "cell_type": "markdown",
      "metadata": {
        "id": "CDZ0n1rpwxJv"
      },
      "source": [
        "# 3 Rendement, OHLC et volume"
      ]
    },
    {
      "cell_type": "code",
      "metadata": {
        "id": "26a0iuNK-F_t"
      },
      "source": [
        "def data_ratio_volume():\n",
        "    data_lr = data_with_log_ratio()\n",
        "    \n",
        "    data = raw_data('Volume')\n",
        "    data['Volume'] = np.ma.log(data['Volume'].values).filled(0)\n",
        "    # data.plot()\n",
        "    # data=(data-data.mean())/data.std()\n",
        "    return pd.merge(data_lr, data, left_index=True, right_index=True)"
      ],
      "execution_count": null,
      "outputs": []
    },
    {
      "cell_type": "code",
      "metadata": {
        "colab": {
          "base_uri": "https://localhost:8080/"
        },
        "id": "GuXXoNdjADgp",
        "outputId": "2912e4b0-9bf5-4466-c09f-526ccbff092a"
      },
      "source": [
        "data_full = data_ratio_volume()\n",
        "\n",
        "print(data_full)\n",
        "# data_full['Volume'].plot()"
      ],
      "execution_count": null,
      "outputs": [
        {
          "output_type": "stream",
          "text": [
            "[*********************100%***********************]  1 of 1 completed\n",
            "[*********************100%***********************]  1 of 1 completed\n"
          ],
          "name": "stdout"
        },
        {
          "output_type": "stream",
          "text": [
            "/usr/local/lib/python3.7/dist-packages/ipykernel_launcher.py:4: RuntimeWarning: divide by zero encountered in true_divide\n",
            "  after removing the cwd from sys.path.\n",
            "/usr/local/lib/python3.7/dist-packages/ipykernel_launcher.py:5: RuntimeWarning: divide by zero encountered in true_divide\n",
            "  \"\"\"\n",
            "/usr/local/lib/python3.7/dist-packages/ipykernel_launcher.py:6: RuntimeWarning: divide by zero encountered in true_divide\n",
            "  \n"
          ],
          "name": "stderr"
        },
        {
          "output_type": "stream",
          "text": [
            "\r[*********************100%***********************]  1 of 1 completed\n",
            "            Adj Close     logHO     logLO     logCO     Volume\n",
            "Date                                                          \n",
            "1982-04-20       -1.0  0.011505 -0.008412 -0.003114  17.815728\n",
            "1982-04-21        1.0  0.003372 -0.001560  0.002076  17.872845\n",
            "1982-04-22        1.0  0.013135  0.000000  0.012623  17.981711\n",
            "1982-04-23        1.0  0.005240 -0.007058  0.005240  18.089952\n",
            "1982-04-26        1.0  0.003274 -0.005818  0.002687  17.918154\n",
            "...               ...       ...       ...       ...        ...\n",
            "2021-03-18       -1.0  0.004069 -0.010844 -0.009668  22.120295\n",
            "2021-03-19       -1.0  0.004330 -0.006767 -0.000010  22.767734\n",
            "2021-03-22        1.0  0.009866 -0.000593  0.006137  22.184524\n",
            "2021-03-23       -1.0  0.002924 -0.009192 -0.006901  22.259130\n",
            "2021-03-24       -1.0  0.005635 -0.007904 -0.007886  21.605706\n",
            "\n",
            "[9815 rows x 5 columns]\n"
          ],
          "name": "stdout"
        }
      ]
    },
    {
      "cell_type": "code",
      "metadata": {
        "colab": {
          "base_uri": "https://localhost:8080/",
          "height": 642
        },
        "id": "PafNxMzyHExz",
        "outputId": "ecf48a78-5a9c-4886-c89a-0fc73bd022d2"
      },
      "source": [
        "LSTM3, TX3, TY3 = run_lstm(data_full,\n",
        "                         len_seq=100, units=128, epochs=100, batch=64)"
      ],
      "execution_count": null,
      "outputs": [
        {
          "output_type": "stream",
          "text": [
            "train batch: 64*121, train set shape: (7744, 100, 5), train target shape: (7744, 1)\n",
            "test set shape: (1863, 100, 5), test target shape: (1863, 1)\n",
            "Model: \"sequential_11\"\n",
            "_________________________________________________________________\n",
            "Layer (type)                 Output Shape              Param #   \n",
            "=================================================================\n",
            "lstm_20 (LSTM)               (None, 100, 128)          68608     \n",
            "_________________________________________________________________\n",
            "lstm_21 (LSTM)               (None, 128)               131584    \n",
            "_________________________________________________________________\n",
            "dense_20 (Dense)             (None, 3)                 387       \n",
            "_________________________________________________________________\n",
            "dense_21 (Dense)             (None, 1)                 4         \n",
            "=================================================================\n",
            "Total params: 200,583\n",
            "Trainable params: 200,583\n",
            "Non-trainable params: 0\n",
            "_________________________________________________________________\n",
            "None\n",
            "*** model training done ***\n"
          ],
          "name": "stdout"
        },
        {
          "output_type": "display_data",
          "data": {
            "image/png": "[encoded data removed]",
            "text/plain": [
              "<Figure size 432x288 with 1 Axes>"
            ]
          },
          "metadata": {
            "tags": [],
            "needs_background": "light"
          }
        }
      ]
    },
    {
      "cell_type": "code",
      "metadata": {
        "colab": {
          "base_uri": "https://localhost:8080/"
        },
        "id": "ik-_h7kLHTya",
        "outputId": "cd70c2f7-263c-4574-ddeb-8742d01b3796"
      },
      "source": [
        "PRED3 = np.sign(LSTM3(TX3, training=False).numpy().flatten())\n",
        "print(np.sign(PRED3))\n",
        "print(np.sum(PRED3 == TY3.flatten()) / len(PRED3))"
      ],
      "execution_count": null,
      "outputs": [
        {
          "output_type": "stream",
          "text": [
            "[1. 1. 1. ... 1. 1. 1.]\n",
            "0.5367686527106817\n"
          ],
          "name": "stdout"
        }
      ]
    },
    {
      "cell_type": "markdown",
      "metadata": {
        "id": "xunCPK8Txo3t"
      },
      "source": [
        "[result]: We can get a precision of 53.68% on test set."
      ]
    }
  ]
}